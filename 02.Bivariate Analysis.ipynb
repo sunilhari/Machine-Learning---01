{
 "cells": [
  {
   "cell_type": "markdown",
   "metadata": {},
   "source": [
    "## Bivariate Analysis\n",
    "> Helps to find relation between two variables.\n",
    "> Association or Dissocation between two variables"
   ]
  },
  {
   "cell_type": "code",
   "execution_count": 1,
   "metadata": {},
   "outputs": [],
   "source": [
    "import numpy as np # import numpy lib\n",
    "import pandas as pd # pands lib import\n",
    "import seaborn as sns # For histograms"
   ]
  },
  {
   "cell_type": "code",
   "execution_count": 2,
   "metadata": {},
   "outputs": [],
   "source": [
    "#defining the source of data.\n",
    "data_source_url = 'https://archive.ics.uci.edu/ml/machine-learning-databases/wine/wine.data'\n",
    "df = pd.read_csv(data_source_url,header = None) # df refers to data frame.IT reads the data as dataframe\n",
    "df.columns = [\n",
    "    'Type',\n",
    "    'Alcohol',\n",
    "    'Malic acid',\n",
    "    'Ash',\n",
    "    'Alcalinity of ash',\n",
    "    'Magnesium',\n",
    "    'Total phenols',\n",
    "    'Flavanoids',\n",
    "    'Nonflavanoid phenols',\n",
    "    'Proanthocyanins',\n",
    "    'Color intensity',\n",
    "    'Hue',\n",
    "    'OD280/OD315 of diluted wines',\n",
    "    'Proline'\n",
    "]"
   ]
  },
  {
   "cell_type": "markdown",
   "metadata": {},
   "source": [
    "#### Scatter plot between two variables would be an efficient way for bivariate analysis.It would show the relation between two variables is linear or non linear."
   ]
  },
  {
   "cell_type": "code",
   "execution_count": 7,
   "metadata": {},
   "outputs": [],
   "source": [
    "# trying to do scatterplot using seaborn.Although this can be achieved using matplotli itself.No big deal\n",
    "def plotScatterPlot(dataframe,variateOne,variateTwo):\n",
    "    sns.regplot(x=dataframe[variateOne], y=dataframe[variateTwo])"
   ]
  },
  {
   "cell_type": "code",
   "execution_count": 8,
   "metadata": {},
   "outputs": [
    {
     "data": {
      "image/png": "[encoded data removed]",
      "text/plain": [
       "<matplotlib.figure.Figure at 0xda3690>"
      ]
     },
     "metadata": {},
     "output_type": "display_data"
    }
   ],
   "source": [
    "plotScatterPlot(df,'Alcohol','Malic acid') # Appears to be non linear"
   ]
  },
  {
   "cell_type": "markdown",
   "metadata": {},
   "source": [
    "### Finding Correlation between two values\n",
    "> this would indicate the intensity of relation between two values\n",
    " * -1: perfect negative linear correlation\n",
    " * +1:perfect positive linear correlation\n",
    " * No correlation"
   ]
  },
  {
   "cell_type": "markdown",
   "metadata": {},
   "source": [
    "# Correlation can be found using the following formula\n",
    "`Correlation = Covariance(X,Y) / SQRT( Var(X)* Var(Y))`"
   ]
  },
  {
   "cell_type": "code",
   "execution_count": 17,
   "metadata": {},
   "outputs": [],
   "source": [
    "def getCorrelation(dataframe,x,y):\n",
    "    print(np.corrcoef(dataframe[x],dataframe[y])[0,1])\n",
    "    "
   ]
  },
  {
   "cell_type": "code",
   "execution_count": 18,
   "metadata": {},
   "outputs": [
    {
     "name": "stdout",
     "output_type": "stream",
     "text": [
      "0.094396940910414\n"
     ]
    }
   ],
   "source": [
    "getCorrelation(df,'Alcohol','Malic acid')"
   ]
  },
  {
   "cell_type": "code",
   "execution_count": null,
   "metadata": {},
   "outputs": [],
   "source": []
  }
 ],
 "metadata": {
  "kernelspec": {
   "display_name": "Python 3",
   "language": "python",
   "name": "python3"
  },
  "language_info": {
   "codemirror_mode": {
    "name": "ipython",
    "version": 3
   },
   "file_extension": ".py",
   "mimetype": "text/x-python",
   "name": "python",
   "nbconvert_exporter": "python",
   "pygments_lexer": "ipython3",
   "version": "3.6.4"
  }
 },
 "nbformat": 4,
 "nbformat_minor": 2
}
